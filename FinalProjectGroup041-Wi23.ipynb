{
 "cells": [
  {
   "cell_type": "markdown",
   "metadata": {},
   "source": [
    "# COGS 118A- Project Proposal"
   ]
  },
  {
   "cell_type": "markdown",
   "metadata": {},
   "source": [
    "# Project Description\n",
    "\n",
    "You will design and execute a machine learning project. There are a few constraints on the nature of the allowed project. \n",
    "- The problem addressed will not be a \"toy problem\" or \"common training students problem\" like mtcars, iris, palmer penguins etc.\n",
    "- The dataset will have >1k observations and >5 variables. I'd prefer more like >10k observations and >10 variables. A general rule is that if you have >100x more observations than variables, your solution will likely generalize a lot better. The goal of training a supervised machine learning model is to learn the underlying pattern in a dataset in order to generalize well to unseen data, so choosing a large dataset is very important.\n",
    "\n",
    "- The project will include a model selection and/or feature selection component where you will be looking for the best setup to maximize the performance of your ML system.\n",
    "- You will evaluate the performance of your ML system using more than one appropriate metric\n",
    "- You will be writing a report describing and discussing these accomplishments\n",
    "\n",
    "\n",
    "Feel free to delete this description section when you hand in your proposal."
   ]
  },
  {
   "cell_type": "markdown",
   "metadata": {},
   "source": [
    "### Peer Review\n",
    "\n",
    "You will all have an opportunity to look at the Project Proposals of other groups to fuel your creativity and get more ideas for how you can improve your own projects. \n",
    "\n",
    "Both the project proposal and project checkpoint will have peer review."
   ]
  },
  {
   "cell_type": "markdown",
   "metadata": {},
   "source": [
    "# Names\n",
    "\n",
    "Hopefully your team is at least this good. Obviously you should replace these with your names.\n",
    "\n",
    "- Wallace Wefel\n",
    "- Weixiang Zhao\n",
    "- Tekin Gunasar\n",
    "- Trevor Bonauito"
   ]
  },
  {
   "cell_type": "markdown",
   "metadata": {},
   "source": [
    "# Abstract \n",
    "This section should be short and clearly stated. It should be a single paragraph <200 words.  It should summarize: \n",
    "- what your goal/problem is\n",
    "- what the data used represents and how they are measured\n",
    "- what you will be doing with the data\n",
    "- how performance/success will be measured\n",
    "\n",
    "Certain problem spaces in which the data is inherently very noisy, especially in the realm of bioelectric data, may be hard to interpret for humans. In the case of ECG/EKG signal this is extremely relevant when studying irregular heart rhythms and being able to diagnoise patients with various heart diseases, such as different types of arrhythmia types. This is where machine learning can take advantage of the growing data space and be combined with expert medical opinions in the pursuit of making near flawless diagnoses where detecting these diseases as early as possible is of extreme importance. Each data point in our entire dataset in this project represents 10 seconds of ECG signal of various patients and multiple labels assigned to each one, with plenty of meta-data surrounding the signals as well, such as race and gender. We will perform signal analysis on the data by transforming it into its power spectrum density and use as features the power spectrum values, assuming that there will be reasonable discriminability between the power spectrum among the rhythms of different hearts with different conditions. We will measure performance as the percentage of abnormal rhythms that our classifier is able to detect."
   ]
  },
  {
   "cell_type": "markdown",
   "metadata": {},
   "source": [
    "# Background\n",
    "\n",
    "Fill in the background and discuss the kind of prior work that has gone on in this research area here. **Use inline citation** to specify which references support which statements.  You can do that through HTML footnotes (demonstrated here). I used to reccommend Markdown footnotes (google is your friend) because they are simpler but recently I have had some problems with them working for me whereas HTML ones always work so far. So use the method that works for you, but do use inline citations.\n",
    "\n",
    "Here is an example of inline citation. After government genocide in the 20th century, real birds were replaced with surveillance drones designed to look just like birds<a name=\"lorenz\"></a>[<sup>[1]</sup>](#lorenznote). Use a minimum of 2 or 3 citations, but we prefer more <a name=\"admonish\"></a>[<sup>[2]</sup>](#admonishnote). You need enough citations to fully explain and back up important facts. \n",
    "\n",
    "Remeber you are trying to explain why someone would want to answer your question or why your hypothesis is in the form that you've stated. "
   ]
  },
  {
   "cell_type": "markdown",
   "metadata": {},
   "source": [
    "Each ECG signal is said to contain multiple 'ECG Beats', and each ECG beat has differnet stages known as a P-wave, QRS Complex, and a T-wave. [1] One of the main difficulties in classifying ECG signals is taking into account how these signals vary across individuals even for normal heart rhythms. [1] In terms of standard pre-processing, there is no set standard, but the bare minimum involves a low-pass filter to get rid of wandering noise[1] Common feature engineering for ECG signals seems to involve much signal analysis such as DWT, ICA, PSD plots, etc. [1], and then extracted features tend to be fed into linear classifiers, such as SVM models [1], although it is becoming increasingly popular to use neural network based approaches [2]\n",
    "\n",
    "[1] Shweta H. Jambukia, Dabhi Vipul and B Prajapati Harshadkumar, \"Classification of ECG signals using machine learning techniques: A survey\", Conference Paper, March 2015.\n",
    "\n",
    "[2] V. S. R. Kumari and P. R. Kumar, \"Cardiac Arrhythmia Prediction using\n",
    "improved Multilayer Perceptron Neural Network,\" Research and\n",
    "Develop. (IJECIERD), vol. 3, no. 4, pp. 73-80, 2013. "
   ]
  },
  {
   "cell_type": "markdown",
   "metadata": {},
   "source": [
    "# Problem Statement\n",
    "\n",
    "Clearly describe the problem that you are solving. Avoid ambiguous words. The problem described should be well defined and should have at least one ML-relevant potential solution. Additionally, describe the problem thoroughly such that it is clear that the problem is quantifiable (the problem can be expressed in mathematical or logical terms), measurable (the problem can be measured by some metric and clearly observed), and replicable (the problem can be reproduced and occurs more than once)."
   ]
  },
  {
   "cell_type": "markdown",
   "metadata": {},
   "source": [
    "How may one utilize data from an electrocardiogram (EKG) to detect irregular heart rhythms and predict the potentiality of heart disease in patients?\n",
    "Given EKG data, what kind of machine learning model(s) may best discover the patterns in identifying the presence of heart disease?\n",
    "What variables and parameters are most important for optimizing the accuracy and efficiency of the model?"
   ]
  },
  {
   "cell_type": "markdown",
   "metadata": {},
   "source": [
    "# Data\n",
    "\n",
    "You should have a strong idea of what dataset(s) will be used to accomplish this project. \n",
    "\n",
    "If you know what (some) of the data you will use, please give the following information for each dataset:\n",
    "- link/reference to obtain it\n",
    "- description of the size of the dataset (# of variables, # of observations)\n",
    "- what an observation consists of\n",
    "- what some critical variables are, how they are represented\n",
    "- any special handling, transformations, cleaning, etc will be needed\n",
    "\n",
    "If you don't yet know what your dataset(s) will be, you should describe what you desire in terms of the above bullets."
   ]
  },
  {
   "cell_type": "markdown",
   "metadata": {},
   "source": [
    "DATA SECTION\n",
    "- https://www.nature.com/articles/s41597-020-0495-6\n",
    "- This dataset is comprised of 21,800 observations, with 24 variables.\n",
    "- The observations consist of basic physical factors such as age, sex, height, and weight as well as other features, such as\n",
    "  the final report, testing device, testing site, and the ekg scp codes, among many others.\n",
    "- The most critical variables here are the age, sex, final report, and the ekg scp codes. These variables will be\n",
    "  the most important determinants in our classification results. Age, sex, and final report are represented in their typical\n",
    "  forms, were the ekg scp codes are separated into 1 of 3 categories, then further separated into 1 of 74 statements in total\n",
    "- In terms of how this data will be handled for our project, there are a few variables that have very little population\n",
    "  in comparison to the dataset size, so we will have to drop some columns altogether due to lack of data and relevance\n",
    "  for those variables. Once we start the coding for our models and optimizations, we might have to transform the ekg scp codes\n",
    "  to be better separated or to group them into larger classes."
   ]
  },
  {
   "cell_type": "markdown",
   "metadata": {},
   "source": [
    "# Proposed Solution\n",
    "\n",
    "In this section, clearly describe a solution to the problem. The solution should be applicable to the project domain and appropriate for the dataset(s) or input(s) given. Provide enough detail (e.g., algorithmic description and/or theoretical properties) to convince us that your solution is applicable. Why might your solution work? Make sure to describe how the solution will be tested.  \n",
    "\n",
    "If you know details already, describe how (e.g., library used, function calls) you plan to implement the solution in a way that is reproducible.\n",
    "\n",
    "If it is appropriate to the problem statement, describe a benchmark model<a name=\"sota\"></a>[<sup>[3]</sup>](#sotanote) against which your solution will be compared. "
   ]
  },
  {
   "cell_type": "markdown",
   "metadata": {},
   "source": [
    "Given how simple it is to implement many complex transforms for discrete signals in python with libraries lik SkLearn and sci-py, we intend on using a whole host of transforms (FFT,DWT,PSD,ICA,etc.) as a part of our grid search to build an optimal model to detect abnormalities in ECG signals. Then, for commonly mentioned classifirs in this space, such as SVM with linear kernel, we can perform grid searches on these different feature engineering techniques, and to aid us in performing an exhaustive search we plan to use Python's default multi-threading module and assign to each model a grid search 'job' that will look through all of our possible feature engineering methods, and then of course the models actual parameter grid as well. We may look into running this process on a remote server as well so as to not require us to be infront of the computer at all times during grid search jobs. "
   ]
  },
  {
   "cell_type": "markdown",
   "metadata": {},
   "source": [
    "# Evaluation Metrics\n",
    "\n",
    "Propose at least one evaluation metric that can be used to quantify the performance of both the benchmark model and the solution model. The evaluation metric(s) you propose should be appropriate given the context of the data, the problem statement, and the intended solution. Describe how the evaluation metric(s) are derived and provide an example of their mathematical representations (if applicable). Complex evaluation metrics should be clearly defined and quantifiable (can be expressed in mathematical or logical terms)."
   ]
  },
  {
   "cell_type": "markdown",
   "metadata": {},
   "source": [
    "A very important evaluation metric her would be recall, as it is very important to be able to predict heart diseases early on with these models so that patients can receive the needed care. In the same sense then, if we will be using recall then we must also consider precision and how often when the model makes a prediction that one has a certain heart disease, they actually have it. "
   ]
  },
  {
   "cell_type": "markdown",
   "metadata": {},
   "source": [
    "# Ethics & Privacy"
   ]
  },
  {
   "cell_type": "markdown",
   "metadata": {},
   "source": [
    "If your project has obvious potential concerns with ethics or data privacy discuss that here.  Almost every ML project put into production can have ethical implications if you use your imagination. Use your imagination. Get creative!\n",
    "\n",
    "Even if you can't come up with an obvious ethical concern that should be addressed, you should know that a large number of ML projects that go into producation have unintended consequences and ethical problems once in production. How will your team address these issues?\n",
    "\n",
    "Consider a tool to help you address the potential issues such as https://deon.drivendata.org"
   ]
  },
  {
   "cell_type": "markdown",
   "metadata": {},
   "source": [
    "Medical data itself is considered very controversial as to what institutions should have access to what data. In terms of one's data representing the health of their heart, it is of course a huge privacy concern, especially if one does not want their general community to know of their condition. In order to address these issues, we will make sure to anonymize data, although we assume that any public data sets already have this data anonymized, but this may change from country to country with different takes on ethics and sensitive situations like this. In a situation like this as well, being able to create a very robust model, near 100% accuracy in a production setting, is extremely important as well in terms of ethics. If we were a real team of practitioners creating ML models for medical data that will be used by doctors to make diagnoses, then there is an ethical expectation that we do not rush model production so as to be able to just quickly sell our model so we can make money, but rather make sure that we go through a long checklist of testing and being absolutely sure our model would be ready to use in a production setting in diagnosing heart diseases. "
   ]
  },
  {
   "cell_type": "markdown",
   "metadata": {},
   "source": [
    "# Team Expectations "
   ]
  },
  {
   "cell_type": "markdown",
   "metadata": {},
   "source": [
    "#1: Everyone must show up to the agreed meeting time.\n",
    "#2: If one cannot meet in person, a Zoom meeting may be arranged to accommodate.\n",
    "#3: If one cannot meet at all, they must notify the group beforehand and ensure they are fully caught up on the progress that was discussed during the meeting, as well as provide any insight and assistance to project issues that were mentioned.\n",
    "#4: Check/use the group's Discord server regularly to maintain that you and the rest of the group are fully caught up on the project's timeline.\n",
    "#5: If one wants to suggest a change to a specific idea or someone else's code, message the other person/group first for approval.\n",
    "#6: Although everyone has their own preferences and expertise, it is important to divide the work evenly.\n",
    "#7: Schedules, goals, and deadlines will be created collectively in either the Discord server or during meetings to ensure everyone's personal schedule is accounted for."
   ]
  },
  {
   "cell_type": "markdown",
   "metadata": {},
   "source": [
    "# Project Timeline Proposal"
   ]
  },
  {
   "cell_type": "markdown",
   "metadata": {},
   "source": [
    "PROJECT TIMELINE PROPOSAL\n",
    "2/25 - Search, discuss and finalize the dataset(s) with the group.\n",
    "\n",
    "3/1 - Each member completes their own peer review proposal for another group.\n",
    "\n",
    "3/2 - Import the data and start cleaning, transforming and whatever other operations are necessary to result in a full dataset\n",
    "\n",
    "3/6 - Discuss the analysis we would like to see performed by our ML model. Make sure the group is on the same page\n",
    "      in the methods we'd like to incorporate on the dataset to get meaningful results.\n",
    "      \n",
    "3/6 - Begin the coding and actual implementation of these models and whatever metrics we decide to use to measure our performance\n",
    "\n",
    "3/16 - Complete the code and ensure our objectives have been reached. Make preparations to turn in the project\n",
    "\n",
    "3/19 - Turn in the final project"
   ]
  },
  {
   "cell_type": "code",
   "execution_count": null,
   "metadata": {},
   "outputs": [],
   "source": []
  }
 ],
 "metadata": {
  "kernelspec": {
   "display_name": "Python 3 (ipykernel)",
   "language": "python",
   "name": "python3"
  },
  "language_info": {
   "codemirror_mode": {
    "name": "ipython",
    "version": 3
   },
   "file_extension": ".py",
   "mimetype": "text/x-python",
   "name": "python",
   "nbconvert_exporter": "python",
   "pygments_lexer": "ipython3",
   "version": "3.9.5"
  }
 },
 "nbformat": 4,
 "nbformat_minor": 2
}
